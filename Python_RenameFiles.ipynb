{
 "cells": [
  {
   "cell_type": "markdown",
   "id": "b855d247",
   "metadata": {
    "deletable": false,
    "editable": false,
    "nbgrader": {
     "cell_type": "markdown",
     "checksum": "3eec0a079fe8c181acee57720e3f7f00",
     "grade": false,
     "grade_id": "cell-bbdd1e6501687805",
     "locked": true,
     "schema_version": 3,
     "solution": false,
     "task": false
    }
   },
   "source": [
    "# Python Automate Parsing and Renaming Multiple Files"
   ]
  },
  {
   "cell_type": "markdown",
   "id": "ce5ba134",
   "metadata": {
    "deletable": false,
    "editable": false,
    "nbgrader": {
     "cell_type": "markdown",
     "checksum": "73bbc12b35df4790d422f8b6da0b33f5",
     "grade": false,
     "grade_id": "cell-aab82be80eea3871",
     "locked": true,
     "schema_version": 3,
     "solution": false,
     "task": false
    }
   },
   "source": [
    "### Instructions\n",
    "\n",
    "* Watch the video tutorial about the os module at https://www.youtube.com/watch?v=ve2pmm5JqmI&list=PLG9A6ovzPqX6d9uWzx0UYN9pm0zzl5ofA&index=26 \n",
    "* Complete the programming exercises below as you go through the tutorial.\n",
    "* Delete or comment out the line of code in each cell which says `raise NotImplementedError()` and replace it with your own.\n",
    "\n",
    "### Exercises"
   ]
  },
  {
   "cell_type": "markdown",
   "id": "772376c6",
   "metadata": {
    "deletable": false,
    "editable": false,
    "nbgrader": {
     "cell_type": "markdown",
     "checksum": "4d9f04832746dad7200f12377fcd530a",
     "grade": false,
     "grade_id": "cell-eabeebb533d1e3cb",
     "locked": true,
     "schema_version": 3,
     "solution": false,
     "task": false
    }
   },
   "source": [
    "Write code in the cell below.\n",
    "\n",
    "* Import the os module."
   ]
  },
  {
   "cell_type": "code",
   "execution_count": 5,
   "id": "40b6f892",
   "metadata": {
    "deletable": false,
    "nbgrader": {
     "cell_type": "code",
     "checksum": "b77373ae7f6094c514e8a74c6322ab3a",
     "grade": true,
     "grade_id": "cell-818e7c329ddd3361",
     "locked": false,
     "points": 1,
     "schema_version": 3,
     "solution": true,
     "task": false
    }
   },
   "outputs": [],
   "source": [
    "import os\n",
    "\n",
    "os.chdir('/Users/u6022329/Documents/Renaming_folder')\n"
   ]
  },
  {
   "cell_type": "markdown",
   "id": "a23fabd5",
   "metadata": {
    "deletable": false,
    "editable": false,
    "nbgrader": {
     "cell_type": "markdown",
     "checksum": "758c9db29b9dab434f4aa1b724b98f1c",
     "grade": false,
     "grade_id": "cell-7ddfa4831d3c6c86",
     "locked": true,
     "schema_version": 3,
     "solution": false,
     "task": false
    }
   },
   "source": [
    "Write code in the cell below.\n",
    "\n",
    "* Change the directory to where you files are located.\n",
    "* Print the current working directory to make sure it changed to the right directory."
   ]
  },
  {
   "cell_type": "code",
   "execution_count": 6,
   "id": "8e6e0fd5",
   "metadata": {
    "deletable": false,
    "nbgrader": {
     "cell_type": "code",
     "checksum": "4d59faf4d34692d91df442c9214579e7",
     "grade": true,
     "grade_id": "cell-7d0d4d334c6e8e9c",
     "locked": false,
     "points": 1,
     "schema_version": 3,
     "solution": true,
     "task": false
    }
   },
   "outputs": [
    {
     "name": "stdout",
     "output_type": "stream",
     "text": [
      "c:\\Users\\u6022329\\Documents\\Renaming_folder\n"
     ]
    }
   ],
   "source": [
    "import os\n",
    "\n",
    "os.chdir('/Users/u6022329/Documents/Renaming_folder')\n",
    "\n",
    "print(os.getcwd())\n"
   ]
  },
  {
   "cell_type": "markdown",
   "id": "4bfedeaf",
   "metadata": {
    "deletable": false,
    "editable": false,
    "nbgrader": {
     "cell_type": "markdown",
     "checksum": "00c2ed2cfe9ca8a34d7c1196afa48ed0",
     "grade": false,
     "grade_id": "cell-7e778deb040a948f",
     "locked": true,
     "schema_version": 3,
     "solution": false,
     "task": false
    }
   },
   "source": [
    "Write code in the cell below.\n",
    "\n",
    "* Print all the files in the directory.\n",
    "* Print the file names split from their extensions."
   ]
  },
  {
   "cell_type": "code",
   "execution_count": 9,
   "id": "05a46979",
   "metadata": {
    "deletable": false,
    "nbgrader": {
     "cell_type": "code",
     "checksum": "6a99d7a5f45c439162300294338b2fd2",
     "grade": true,
     "grade_id": "cell-886a46337e41e3dc",
     "locked": false,
     "points": 1,
     "schema_version": 3,
     "solution": true,
     "task": false
    }
   },
   "outputs": [
    {
     "name": "stdout",
     "output_type": "stream",
     "text": [
      "('Earth_SolarSystem_#4', '.docx')\n",
      "('Jupiter_SolarSystem_#6', '.docx')\n",
      "('Mars_SolarSystem _#5', '.docx')\n",
      "('Mercury_SolarSystem_#2', '.docx')\n",
      "('Neptune_SolarSystem_#8', '.docx')\n",
      "('Pluto_SolarSystem_#10', '.docx')\n",
      "('Saturn_SolarSystem_#7', '.docx')\n",
      "('The_sun_SolarSystem_#1', '.docx')\n",
      "('Uranus_SolarSystem_#9', '.docx')\n",
      "('Venus_SolarSystem_#3', '.docx')\n"
     ]
    }
   ],
   "source": [
    "import os\n",
    "\n",
    "os.chdir('/Users/u6022329/Documents/Renaming_folder')\n",
    "\n",
    "for f in os .listdir():\n",
    "   print(os.path.splitext(f))"
   ]
  },
  {
   "cell_type": "markdown",
   "id": "ea740f4f",
   "metadata": {
    "deletable": false,
    "editable": false,
    "nbgrader": {
     "cell_type": "markdown",
     "checksum": "97f5a469dd15198a04c0d6176e90a49b",
     "grade": false,
     "grade_id": "cell-cfaf1995327f55d1",
     "locked": true,
     "schema_version": 3,
     "solution": false,
     "task": false
    }
   },
   "source": [
    "Write code in the cell below.\n",
    "\n",
    "* Assign the file names to a variable named `file_name`.\n",
    "* Assign the file extensions to a variable named `file_ext`.\n",
    "* Using the `file_name` variable, split the names on the hyphen `-`. Assign the first section to a variable called `f_title`, the second section to a variable called `f_course`, and the third section to a variable called `f_num`.\n",
    "* Print a formatted string using the format `'{}-{}-{}{}'.format(f_num, f_course, f_title, f_ext)`. (The presenter updated the variable `file_name` to `f_name` and `file_ext` to `f_ext`.)"
   ]
  },
  {
   "cell_type": "code",
   "execution_count": 13,
   "id": "a8a92f81",
   "metadata": {
    "deletable": false,
    "nbgrader": {
     "cell_type": "code",
     "checksum": "5b3fa8e1f60cdc9734a0657d10e8bc05",
     "grade": true,
     "grade_id": "cell-55f1f35ba0fc861c",
     "locked": false,
     "points": 3,
     "schema_version": 3,
     "solution": true,
     "task": false
    }
   },
   "outputs": [
    {
     "ename": "ValueError",
     "evalue": "not enough values to unpack (expected 3, got 1)",
     "output_type": "error",
     "traceback": [
      "\u001b[1;31m---------------------------------------------------------------------------\u001b[0m",
      "\u001b[1;31mValueError\u001b[0m                                Traceback (most recent call last)",
      "\u001b[1;32mc:\\Users\\u6022329\\Documents\\Python Scripts\\exerPythFileRename\\Python_RenameFiles.ipynb Cell 10\u001b[0m in \u001b[0;36m<cell line: 5>\u001b[1;34m()\u001b[0m\n\u001b[0;32m      <a href='vscode-notebook-cell:/c%3A/Users/u6022329/Documents/Python%20Scripts/exerPythFileRename/Python_RenameFiles.ipynb#X12sZmlsZQ%3D%3D?line=4'>5</a>\u001b[0m \u001b[39mfor\u001b[39;00m f \u001b[39min\u001b[39;00m os \u001b[39m.\u001b[39mlistdir():\n\u001b[0;32m      <a href='vscode-notebook-cell:/c%3A/Users/u6022329/Documents/Python%20Scripts/exerPythFileRename/Python_RenameFiles.ipynb#X12sZmlsZQ%3D%3D?line=5'>6</a>\u001b[0m    file_name, file_ext \u001b[39m=\u001b[39m os\u001b[39m.\u001b[39mpath\u001b[39m.\u001b[39msplitext(f)\n\u001b[1;32m----> <a href='vscode-notebook-cell:/c%3A/Users/u6022329/Documents/Python%20Scripts/exerPythFileRename/Python_RenameFiles.ipynb#X12sZmlsZQ%3D%3D?line=6'>7</a>\u001b[0m    f_title, f_course, f_num \u001b[39m=\u001b[39m file_name\u001b[39m.\u001b[39msplit(\u001b[39m'\u001b[39m\u001b[39m-\u001b[39m\u001b[39m'\u001b[39m)\n\u001b[0;32m      <a href='vscode-notebook-cell:/c%3A/Users/u6022329/Documents/Python%20Scripts/exerPythFileRename/Python_RenameFiles.ipynb#X12sZmlsZQ%3D%3D?line=7'>8</a>\u001b[0m    \u001b[39mprint\u001b[39m(\u001b[39m'\u001b[39m\u001b[39m{}\u001b[39;00m\u001b[39m-\u001b[39m\u001b[39m{}\u001b[39;00m\u001b[39m-\u001b[39m\u001b[39m{}\u001b[39;00m\u001b[39m{}\u001b[39;00m\u001b[39m'\u001b[39m\u001b[39m.\u001b[39mformat(f_num, f_course, f_title, f_ext))\n",
      "\u001b[1;31mValueError\u001b[0m: not enough values to unpack (expected 3, got 1)"
     ]
    }
   ],
   "source": [
    "import os\n",
    "\n",
    "os.chdir('/Users/u6022329/Documents/Renaming_folder')\n",
    "\n",
    "for f in os .listdir():\n",
    "   file_name, file_ext = os.path.splitext(f)\n",
    "   f_title, f_course, f_num = file_name.split('-')\n",
    "   print('{}-{}-{}{}'.format(f_num, f_course, f_title, f_ext))"
   ]
  },
  {
   "cell_type": "markdown",
   "id": "a8195f5c",
   "metadata": {
    "deletable": false,
    "editable": false,
    "nbgrader": {
     "cell_type": "markdown",
     "checksum": "9e6b5c4366042498d8194455ea1eba4f",
     "grade": false,
     "grade_id": "cell-150f0ddcc8127dc8",
     "locked": true,
     "schema_version": 3,
     "solution": false,
     "task": false
    }
   },
   "source": [
    "Write code in the cell below.\n",
    "\n",
    "* Strip white space from the `f_title`, `f_course`, and `f_num` variables.\n",
    "* Remove the # sign from the beginning.\n",
    "* Add 0 to the front of the single digits.\n",
    "* Remove the course name from the file titles."
   ]
  },
  {
   "cell_type": "code",
   "execution_count": 21,
   "id": "6f6bf0b9",
   "metadata": {
    "deletable": false,
    "nbgrader": {
     "cell_type": "code",
     "checksum": "341c11971be7bad00f19caa190b237ae",
     "grade": true,
     "grade_id": "cell-92a17579c0833b85",
     "locked": false,
     "points": 5,
     "schema_version": 3,
     "solution": true,
     "task": false
    }
   },
   "outputs": [
    {
     "ename": "ValueError",
     "evalue": "not enough values to unpack (expected 3, got 1)",
     "output_type": "error",
     "traceback": [
      "\u001b[1;31m---------------------------------------------------------------------------\u001b[0m",
      "\u001b[1;31mValueError\u001b[0m                                Traceback (most recent call last)",
      "\u001b[1;32mc:\\Users\\u6022329\\Documents\\Python Scripts\\exerPythFileRename\\Python_RenameFiles.ipynb Cell 12\u001b[0m in \u001b[0;36m<cell line: 4>\u001b[1;34m()\u001b[0m\n\u001b[0;32m      <a href='vscode-notebook-cell:/c%3A/Users/u6022329/Documents/Python%20Scripts/exerPythFileRename/Python_RenameFiles.ipynb#X14sZmlsZQ%3D%3D?line=3'>4</a>\u001b[0m \u001b[39mfor\u001b[39;00m f \u001b[39min\u001b[39;00m os\u001b[39m.\u001b[39mlistdir():\n\u001b[0;32m      <a href='vscode-notebook-cell:/c%3A/Users/u6022329/Documents/Python%20Scripts/exerPythFileRename/Python_RenameFiles.ipynb#X14sZmlsZQ%3D%3D?line=4'>5</a>\u001b[0m     f_name, f_ext \u001b[39m=\u001b[39m os\u001b[39m.\u001b[39mpath\u001b[39m.\u001b[39msplitext(f)\n\u001b[1;32m----> <a href='vscode-notebook-cell:/c%3A/Users/u6022329/Documents/Python%20Scripts/exerPythFileRename/Python_RenameFiles.ipynb#X14sZmlsZQ%3D%3D?line=5'>6</a>\u001b[0m     f_title, f_course, f_num \u001b[39m=\u001b[39m f_name\u001b[39m.\u001b[39msplit(\u001b[39m'\u001b[39m\u001b[39m-\u001b[39m\u001b[39m'\u001b[39m)\n\u001b[0;32m      <a href='vscode-notebook-cell:/c%3A/Users/u6022329/Documents/Python%20Scripts/exerPythFileRename/Python_RenameFiles.ipynb#X14sZmlsZQ%3D%3D?line=6'>7</a>\u001b[0m     f_title \u001b[39m=\u001b[39m f_title\u001b[39m.\u001b[39mstrip()\n\u001b[0;32m      <a href='vscode-notebook-cell:/c%3A/Users/u6022329/Documents/Python%20Scripts/exerPythFileRename/Python_RenameFiles.ipynb#X14sZmlsZQ%3D%3D?line=7'>8</a>\u001b[0m     f_course \u001b[39m=\u001b[39mf_course\u001b[39m.\u001b[39mstrip()\n",
      "\u001b[1;31mValueError\u001b[0m: not enough values to unpack (expected 3, got 1)"
     ]
    }
   ],
   "source": [
    "import os\n",
    "os.chdir('/Users/u6022329/Documents/Renaming_folder')\n",
    "\n",
    "for f in os.listdir():\n",
    "    f_name, f_ext = os.path.splitext(f)\n",
    "    f_title, f_course, f_num = f_name.split('-')\n",
    "    f_title = f_title.strip()\n",
    "    f_course =f_course.strip()\n",
    "    f_num = f_num.strip()\n",
    "    print('{}-{}-{}{}'.format(f_num, f_course, f_title, f_ext))\n",
    "\n"
   ]
  },
  {
   "cell_type": "markdown",
   "id": "7627a23f",
   "metadata": {
    "deletable": false,
    "editable": false,
    "nbgrader": {
     "cell_type": "markdown",
     "checksum": "a591b5db8bc82519a7cacd3320b571bb",
     "grade": false,
     "grade_id": "cell-48f78ef178de58d7",
     "locked": true,
     "schema_version": 3,
     "solution": false,
     "task": false
    }
   },
   "source": [
    "Write code in the cell below.\n",
    "\n",
    "* Copy your code from the previous cell.\n",
    "* Change the print statement to a new variable called `new_name` which uses the format `'{}-{}{}'.format(f_num, f_title, f_ext)`."
   ]
  },
  {
   "cell_type": "code",
   "execution_count": 23,
   "id": "128f2a82",
   "metadata": {
    "deletable": false,
    "nbgrader": {
     "cell_type": "code",
     "checksum": "f12f99bdbeb302e70cc294599006c340",
     "grade": true,
     "grade_id": "cell-7b69cabad92b2a69",
     "locked": false,
     "points": 2,
     "schema_version": 3,
     "solution": true,
     "task": false
    }
   },
   "outputs": [
    {
     "ename": "ValueError",
     "evalue": "not enough values to unpack (expected 3, got 1)",
     "output_type": "error",
     "traceback": [
      "\u001b[1;31m---------------------------------------------------------------------------\u001b[0m",
      "\u001b[1;31mValueError\u001b[0m                                Traceback (most recent call last)",
      "\u001b[1;32mc:\\Users\\u6022329\\Documents\\Python Scripts\\exerPythFileRename\\Python_RenameFiles.ipynb Cell 14\u001b[0m in \u001b[0;36m<cell line: 1>\u001b[1;34m()\u001b[0m\n\u001b[0;32m      <a href='vscode-notebook-cell:/c%3A/Users/u6022329/Documents/Python%20Scripts/exerPythFileRename/Python_RenameFiles.ipynb#X16sZmlsZQ%3D%3D?line=0'>1</a>\u001b[0m \u001b[39mfor\u001b[39;00m f \u001b[39min\u001b[39;00m os\u001b[39m.\u001b[39mlistdir():\n\u001b[0;32m      <a href='vscode-notebook-cell:/c%3A/Users/u6022329/Documents/Python%20Scripts/exerPythFileRename/Python_RenameFiles.ipynb#X16sZmlsZQ%3D%3D?line=1'>2</a>\u001b[0m     f_name, f_ext \u001b[39m=\u001b[39m os\u001b[39m.\u001b[39mpath\u001b[39m.\u001b[39msplitext(f)\n\u001b[1;32m----> <a href='vscode-notebook-cell:/c%3A/Users/u6022329/Documents/Python%20Scripts/exerPythFileRename/Python_RenameFiles.ipynb#X16sZmlsZQ%3D%3D?line=2'>3</a>\u001b[0m     f_title, f_course, f_num \u001b[39m=\u001b[39m new_func(f_name)\n\u001b[0;32m      <a href='vscode-notebook-cell:/c%3A/Users/u6022329/Documents/Python%20Scripts/exerPythFileRename/Python_RenameFiles.ipynb#X16sZmlsZQ%3D%3D?line=3'>4</a>\u001b[0m     f_title \u001b[39m=\u001b[39m f_title\u001b[39m.\u001b[39mstrip()\n\u001b[0;32m      <a href='vscode-notebook-cell:/c%3A/Users/u6022329/Documents/Python%20Scripts/exerPythFileRename/Python_RenameFiles.ipynb#X16sZmlsZQ%3D%3D?line=4'>5</a>\u001b[0m     f_course \u001b[39m=\u001b[39m f_course\u001b[39m.\u001b[39mstrip()\n",
      "\u001b[1;32mc:\\Users\\u6022329\\Documents\\Python Scripts\\exerPythFileRename\\Python_RenameFiles.ipynb Cell 14\u001b[0m in \u001b[0;36mnew_func\u001b[1;34m(f_name)\u001b[0m\n\u001b[0;32m      <a href='vscode-notebook-cell:/c%3A/Users/u6022329/Documents/Python%20Scripts/exerPythFileRename/Python_RenameFiles.ipynb#X16sZmlsZQ%3D%3D?line=0'>1</a>\u001b[0m \u001b[39mdef\u001b[39;00m \u001b[39mnew_func\u001b[39m(f_name):\n\u001b[1;32m----> <a href='vscode-notebook-cell:/c%3A/Users/u6022329/Documents/Python%20Scripts/exerPythFileRename/Python_RenameFiles.ipynb#X16sZmlsZQ%3D%3D?line=1'>2</a>\u001b[0m     f_title, f_course, f_num \u001b[39m=\u001b[39m f_name\u001b[39m.\u001b[39msplit(\u001b[39m'\u001b[39m\u001b[39m-\u001b[39m\u001b[39m'\u001b[39m)\n\u001b[0;32m      <a href='vscode-notebook-cell:/c%3A/Users/u6022329/Documents/Python%20Scripts/exerPythFileRename/Python_RenameFiles.ipynb#X16sZmlsZQ%3D%3D?line=2'>3</a>\u001b[0m     \u001b[39mreturn\u001b[39;00m f_title,f_course,f_num\n",
      "\u001b[1;31mValueError\u001b[0m: not enough values to unpack (expected 3, got 1)"
     ]
    }
   ],
   "source": [
    "\n",
    "\n",
    "for f in os.listdir():\n",
    "    f_name, f_ext = os.path.splitext(f)\n",
    "    f_title, f_course, f_num = new_func(f_name)\n",
    "    f_title = f_title.strip()\n",
    "    f_course = f_course.strip()\n",
    "    f_num = f_num.strip()[1:].zfill(2)\n",
    "    print('{}-{}-{}{}'.format(f_num, f_course, f_title, f_ext))\n"
   ]
  },
  {
   "cell_type": "markdown",
   "id": "91c032d5",
   "metadata": {
    "deletable": false,
    "editable": false,
    "nbgrader": {
     "cell_type": "markdown",
     "checksum": "861934438f8c68ae943fbc5137d7b92c",
     "grade": false,
     "grade_id": "cell-425153c9cfb7d0d5",
     "locked": true,
     "schema_version": 3,
     "solution": false,
     "task": false
    }
   },
   "source": [
    "Write code in the cell below.\n",
    "\n",
    "* What line of code does the presenter use to rename the files?"
   ]
  },
  {
   "cell_type": "code",
   "execution_count": 24,
   "id": "49c851c0",
   "metadata": {
    "deletable": false,
    "nbgrader": {
     "cell_type": "code",
     "checksum": "ca4a3959d7b6853643569870cdd0486d",
     "grade": true,
     "grade_id": "cell-75440e8a8f398a02",
     "locked": false,
     "points": 1,
     "schema_version": 3,
     "solution": true,
     "task": false
    }
   },
   "outputs": [
    {
     "ename": "ValueError",
     "evalue": "not enough values to unpack (expected 3, got 1)",
     "output_type": "error",
     "traceback": [
      "\u001b[1;31m---------------------------------------------------------------------------\u001b[0m",
      "\u001b[1;31mValueError\u001b[0m                                Traceback (most recent call last)",
      "\u001b[1;32mc:\\Users\\u6022329\\Documents\\Python Scripts\\exerPythFileRename\\Python_RenameFiles.ipynb Cell 16\u001b[0m in \u001b[0;36m<cell line: 1>\u001b[1;34m()\u001b[0m\n\u001b[0;32m      <a href='vscode-notebook-cell:/c%3A/Users/u6022329/Documents/Python%20Scripts/exerPythFileRename/Python_RenameFiles.ipynb#X21sZmlsZQ%3D%3D?line=0'>1</a>\u001b[0m \u001b[39mfor\u001b[39;00m f \u001b[39min\u001b[39;00m os\u001b[39m.\u001b[39mlistdir():\n\u001b[0;32m      <a href='vscode-notebook-cell:/c%3A/Users/u6022329/Documents/Python%20Scripts/exerPythFileRename/Python_RenameFiles.ipynb#X21sZmlsZQ%3D%3D?line=1'>2</a>\u001b[0m     f_name, f_ext \u001b[39m=\u001b[39m os\u001b[39m.\u001b[39mpath\u001b[39m.\u001b[39msplitext(f)\n\u001b[1;32m----> <a href='vscode-notebook-cell:/c%3A/Users/u6022329/Documents/Python%20Scripts/exerPythFileRename/Python_RenameFiles.ipynb#X21sZmlsZQ%3D%3D?line=2'>3</a>\u001b[0m     f_title, f_course, f_num \u001b[39m=\u001b[39m new_func(f_name)\n\u001b[0;32m      <a href='vscode-notebook-cell:/c%3A/Users/u6022329/Documents/Python%20Scripts/exerPythFileRename/Python_RenameFiles.ipynb#X21sZmlsZQ%3D%3D?line=3'>4</a>\u001b[0m     f_title \u001b[39m=\u001b[39m f_title\u001b[39m.\u001b[39mstrip()\n\u001b[0;32m      <a href='vscode-notebook-cell:/c%3A/Users/u6022329/Documents/Python%20Scripts/exerPythFileRename/Python_RenameFiles.ipynb#X21sZmlsZQ%3D%3D?line=4'>5</a>\u001b[0m     f_course \u001b[39m=\u001b[39m f_course\u001b[39m.\u001b[39mstrip()\n",
      "\u001b[1;32mc:\\Users\\u6022329\\Documents\\Python Scripts\\exerPythFileRename\\Python_RenameFiles.ipynb Cell 16\u001b[0m in \u001b[0;36mnew_func\u001b[1;34m(f_name)\u001b[0m\n\u001b[0;32m      <a href='vscode-notebook-cell:/c%3A/Users/u6022329/Documents/Python%20Scripts/exerPythFileRename/Python_RenameFiles.ipynb#X21sZmlsZQ%3D%3D?line=0'>1</a>\u001b[0m \u001b[39mdef\u001b[39;00m \u001b[39mnew_func\u001b[39m(f_name):\n\u001b[1;32m----> <a href='vscode-notebook-cell:/c%3A/Users/u6022329/Documents/Python%20Scripts/exerPythFileRename/Python_RenameFiles.ipynb#X21sZmlsZQ%3D%3D?line=1'>2</a>\u001b[0m     f_title, f_course, f_num \u001b[39m=\u001b[39m f_name\u001b[39m.\u001b[39msplit(\u001b[39m'\u001b[39m\u001b[39m-\u001b[39m\u001b[39m'\u001b[39m)\n\u001b[0;32m      <a href='vscode-notebook-cell:/c%3A/Users/u6022329/Documents/Python%20Scripts/exerPythFileRename/Python_RenameFiles.ipynb#X21sZmlsZQ%3D%3D?line=2'>3</a>\u001b[0m     \u001b[39mreturn\u001b[39;00m f_title,f_course,f_num\n",
      "\u001b[1;31mValueError\u001b[0m: not enough values to unpack (expected 3, got 1)"
     ]
    }
   ],
   "source": [
    "\n",
    "for f in os.listdir():\n",
    "    f_name, f_ext = os.path.splitext(f)\n",
    "    f_title, f_course, f_num = new_func(f_name)\n",
    "    f_title = f_title.strip()\n",
    "    f_course = f_course.strip()\n",
    "    f_num = f_num.strip()[1:].zfill(2)\n",
    "    print('{}-{}-{}{}'.format(f_num, f_course, f_title, f_ext))\n",
    "\n",
    "    os.rename(f, new_name)"
   ]
  }
 ],
 "metadata": {
  "kernelspec": {
   "display_name": "Python 3.10.7 64-bit (microsoft store)",
   "language": "python",
   "name": "python3"
  },
  "language_info": {
   "codemirror_mode": {
    "name": "ipython",
    "version": 3
   },
   "file_extension": ".py",
   "mimetype": "text/x-python",
   "name": "python",
   "nbconvert_exporter": "python",
   "pygments_lexer": "ipython3",
   "version": "3.10.7"
  },
  "vscode": {
   "interpreter": {
    "hash": "af7b0cce07376c58e2b36d64612d3cbee2d17660412879c7b0bfdcd47aa3d96c"
   }
  }
 },
 "nbformat": 4,
 "nbformat_minor": 5
}
